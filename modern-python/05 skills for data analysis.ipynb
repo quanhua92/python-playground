{
 "cells": [
  {
   "cell_type": "code",
   "execution_count": 1,
   "metadata": {},
   "outputs": [],
   "source": [
    "from collections import defaultdict\n",
    "from pprint import pprint"
   ]
  },
  {
   "cell_type": "markdown",
   "metadata": {},
   "source": [
    "# defaultdict: grouping, accumulation, reverse one-to-many mapping"
   ]
  },
  {
   "cell_type": "markdown",
   "metadata": {},
   "source": [
    "## accumulation"
   ]
  },
  {
   "cell_type": "code",
   "execution_count": 3,
   "metadata": {},
   "outputs": [],
   "source": [
    "d = defaultdict(list)\n",
    "\n",
    "d['raymond'].append('red')\n",
    "d['rachel'].append('blue')\n",
    "\n",
    "d['raymond'].append('mac')\n",
    "d['rachel'].append('pc')"
   ]
  },
  {
   "cell_type": "code",
   "execution_count": 4,
   "metadata": {},
   "outputs": [
    {
     "name": "stdout",
     "output_type": "stream",
     "text": [
      "defaultdict(<class 'list'>,\n",
      "            {'rachel': ['blue', 'pc'],\n",
      "             'raymond': ['red', 'mac']})\n"
     ]
    }
   ],
   "source": [
    "pprint(d)"
   ]
  },
  {
   "cell_type": "code",
   "execution_count": 8,
   "metadata": {},
   "outputs": [
    {
     "name": "stdout",
     "output_type": "stream",
     "text": [
      "{'rachel': ['blue',\n",
      "            'pc'],\n",
      " 'raymond': ['red',\n",
      "             'mac']}\n"
     ]
    }
   ],
   "source": [
    "pprint(dict(d), width=20)"
   ]
  },
  {
   "cell_type": "markdown",
   "metadata": {},
   "source": [
    "## reverse one-to-many"
   ]
  },
  {
   "cell_type": "code",
   "execution_count": 10,
   "metadata": {},
   "outputs": [],
   "source": [
    "e2s = {\n",
    "    'one': ['uno'],\n",
    "    'two': ['dos'],\n",
    "    'three': ['tres'],\n",
    "    'trio': ['tres'],\n",
    "    'free': ['libre', 'gratis']\n",
    "}"
   ]
  },
  {
   "cell_type": "code",
   "execution_count": 11,
   "metadata": {},
   "outputs": [
    {
     "name": "stdout",
     "output_type": "stream",
     "text": [
      "{'free': ['libre', 'gratis'],\n",
      " 'one': ['uno'],\n",
      " 'three': ['tres'],\n",
      " 'trio': ['tres'],\n",
      " 'two': ['dos']}\n"
     ]
    }
   ],
   "source": [
    "pprint(e2s)"
   ]
  },
  {
   "cell_type": "code",
   "execution_count": 12,
   "metadata": {},
   "outputs": [],
   "source": [
    "s2e = defaultdict(list)"
   ]
  },
  {
   "cell_type": "code",
   "execution_count": 17,
   "metadata": {},
   "outputs": [],
   "source": [
    "for eng, spanwords in e2s.items():\n",
    "    for span in spanwords:\n",
    "        s2e[span].append(eng)"
   ]
  },
  {
   "cell_type": "code",
   "execution_count": 18,
   "metadata": {},
   "outputs": [
    {
     "name": "stdout",
     "output_type": "stream",
     "text": [
      "defaultdict(<class 'list'>,\n",
      "            {'dos': ['two'],\n",
      "             'gratis': ['free'],\n",
      "             'libre': ['free'],\n",
      "             'tres': ['three', 'trio'],\n",
      "             'uno': ['one']})\n"
     ]
    }
   ],
   "source": [
    "pprint(s2e)"
   ]
  },
  {
   "cell_type": "markdown",
   "metadata": {},
   "source": [
    "## reverse one-to-one"
   ]
  },
  {
   "cell_type": "code",
   "execution_count": 19,
   "metadata": {},
   "outputs": [],
   "source": [
    "e2s = dict(one='uno', two='dos', three='tres')"
   ]
  },
  {
   "cell_type": "code",
   "execution_count": 20,
   "metadata": {},
   "outputs": [
    {
     "name": "stdout",
     "output_type": "stream",
     "text": [
      "{'one': 'uno', 'three': 'tres', 'two': 'dos'}\n"
     ]
    }
   ],
   "source": [
    "pprint(e2s)"
   ]
  },
  {
   "cell_type": "code",
   "execution_count": 24,
   "metadata": {},
   "outputs": [],
   "source": [
    "s2e = { span: eng for eng, span in e2s.items()}"
   ]
  },
  {
   "cell_type": "code",
   "execution_count": 26,
   "metadata": {},
   "outputs": [
    {
     "name": "stdout",
     "output_type": "stream",
     "text": [
      "{'dos': 'two', 'tres': 'three', 'uno': 'one'}\n"
     ]
    }
   ],
   "source": [
    "pprint(s2e)"
   ]
  },
  {
   "cell_type": "markdown",
   "metadata": {},
   "source": [
    "# glob"
   ]
  },
  {
   "cell_type": "code",
   "execution_count": 27,
   "metadata": {},
   "outputs": [],
   "source": [
    "import glob"
   ]
  },
  {
   "cell_type": "code",
   "execution_count": 29,
   "metadata": {},
   "outputs": [
    {
     "data": {
      "text/plain": [
       "['01 foundational python .ipynb',\n",
       " '02 analyzing data using simulations and resampling.ipynb',\n",
       " '03 typehint, default dict, fsum.ipynb',\n",
       " '05 voting blocks.ipynb',\n",
       " 'kmeans.ipynb']"
      ]
     },
     "execution_count": 29,
     "metadata": {},
     "output_type": "execute_result"
    }
   ],
   "source": [
    "glob.glob(\"*.ipynb\")"
   ]
  },
  {
   "cell_type": "markdown",
   "metadata": {},
   "source": [
    "# read file"
   ]
  },
  {
   "cell_type": "code",
   "execution_count": 31,
   "metadata": {
    "scrolled": true
   },
   "outputs": [
    {
     "name": "stdout",
     "output_type": "stream",
     "text": [
      "Senate Vote #20 2016-02-10T17:11:00 - H.R. 757: North Korea Sanctions Enforcement Act of 2016\n",
      "person,state,district,vote,name,party\n",
      "300002,TN,,Yea,Sen. Lamar Alexander [R],Republican\n",
      "300011,CA,,Yea,Sen. Barbara Boxer [D],Democrat\n",
      "300018,WA,,Yea,Sen. Maria Cantwell [D],Democrat\n",
      "300019,DE,,Yea,Sen. Thomas Carper [D],Democrat\n",
      "300023,MS,,Yea,Sen. Thad Cochran [R],Republican\n",
      "300025,ME,,Yea,Sen. Susan Collins [R],Republican\n",
      "300027,TX,,Yea,Sen. John Cornyn [R],Republican\n",
      "300030,ID,,Yea,Sen. Michael Crapo [R],Republican\n",
      "300038,IL,,Not Voting,Sen. Richard Durbin [D],Democrat\n",
      "300041,WY,,Yea,Sen. Michael Enzi [R],Republican\n",
      "300043,CA,,Yea,Sen. Dianne Feinstein [D],Democrat\n",
      "300047,SC,,Not Voting,Sen. Lindsey Graham [R],Republican\n",
      "300048,IA,,Yea,Sen. Charles “Chuck” Grassley [R],Republican\n",
      "300052,UT,,Yea,Sen. Orrin Hatch [R],Republican\n",
      "300055,OK,,Yea,Sen. James “Jim” Inhofe [R],Republican\n",
      "300065,VT,,Yea,Sen. Patrick Leahy [D],Democrat\n",
      "300071,AZ,,Yea,Sen. John McCain [R],Republican\n",
      "300072,KY,,Yea,Sen. Mitch McConnell [R],Republican\n",
      "300073,MD,,Yea,Sen. Barbara Mikulski [D],Democrat\n",
      "300075,AK,,Yea,Sen. Lisa Murkowski [R],Republican\n",
      "300076,WA,,Yea,Sen. Patty Murray [D],Democrat\n",
      "300078,FL,,Yea,Sen. Bill Nelson [D],Democrat\n",
      "300081,RI,,Yea,Sen. John “Jack” Reed [D],Democrat\n",
      "300082,NV,,Yea,Sen. Harry Reid [D],Democrat\n",
      "300083,KS,,Yea,Sen. Pat Roberts [R],Republican\n",
      "300087,NY,,Yea,Sen. Charles “Chuck” Schumer [D],Democrat\n",
      "300088,AL,,Yea,Sen. Jefferson “Jeff” Sessions [R],Republican\n",
      "300089,AL,,Yea,Sen. Richard Shelby [R],Republican\n",
      "300093,MI,,Yea,Sen. Debbie Stabenow [D],Democrat\n",
      "300100,OR,,Yea,Sen. Ron Wyden [D],Democrat\n",
      "400013,WI,,Yea,Sen. Tammy Baldwin [D],Democrat\n",
      "400034,MO,,Yea,Sen. Roy Blunt [R],Republican\n",
      "400040,AR,,Yea,Sen. John Boozman [R],Republican\n",
      "400050,OH,,Yea,Sen. Sherrod Brown [D],Democrat\n",
      "400054,NC,,Yea,Sen. Richard Burr [R],Republican\n",
      "400061,WV,,Yea,Sen. Shelley Capito [R],Republican\n",
      "400064,MD,,Yea,Sen. Benjamin Cardin [D],Democrat\n",
      "400134,AZ,,Yea,Sen. Jeff Flake [R],Republican\n",
      "400194,GA,,Yea,Sen. John “Johnny” Isakson [R],Republican\n",
      "400222,IL,,Yea,Sen. Mark Kirk [R],Republican\n",
      "400253,MA,,Yea,Sen. Edward “Ed” Markey [D],Democrat\n",
      "400272,NJ,,Yea,Sen. Robert “Bob” Menéndez [D],Democrat\n",
      "400284,KS,,Yea,Sen. Jerry Moran [R],Republican\n",
      "400325,OH,,Yea,Sen. Robert “Rob” Portman [R],Republican\n",
      "400357,VT,,Not Voting,Sen. Bernard “Bernie” Sanders [I],Independent\n",
      "400408,PA,,Yea,Sen. Patrick “Pat” Toomey [R],Republican\n",
      "400413,NM,,Yea,Sen. Tom Udall [D],Democrat\n",
      "400418,LA,,Yea,Sen. David Vitter [R],Republican\n",
      "400432,MS,,Yea,Sen. Roger Wicker [R],Republican\n",
      "400546,SD,,Yea,Sen. John Thune [R],Republican\n",
      "402675,IN,,Yea,Sen. Daniel Coats [R],Republican\n",
      "412194,CT,,Yea,Sen. Christopher Murphy [D],Democrat\n",
      "412200,HI,,Yea,Sen. Mazie Hirono [D],Democrat\n",
      "412205,IN,,Yea,Sen. Joe Donnelly [D],Democrat\n",
      "412218,NV,,Yea,Sen. Dean Heller [R],Republican\n",
      "412223,NY,,Yea,Sen. Kirsten Gillibrand [D],Democrat\n",
      "412242,MN,,Yea,Sen. Amy Klobuchar [D],Democrat\n",
      "412243,MO,,Yea,Sen. Claire McCaskill [D],Democrat\n",
      "412244,MT,,Yea,Sen. Jon Tester [D],Democrat\n",
      "412246,PA,,Yea,Sen. Robert “Bob” Casey Jr. [D],Democrat\n",
      "412247,RI,,Yea,Sen. Sheldon Whitehouse [D],Democrat\n",
      "412248,TN,,Yea,Sen. Bob Corker [R],Republican\n",
      "412251,WY,,Yea,Sen. John Barrasso [R],Republican\n",
      "412269,LA,,Yea,Sen. Bill Cassidy [R],Republican\n",
      "412281,NM,,Yea,Sen. Martin Heinrich [D],Democrat\n",
      "412305,MI,,Yea,Sen. Gary Peters [D],Democrat\n",
      "412321,VA,,Yea,Sen. Mark Warner [D],Democrat\n",
      "412322,ID,,Yea,Sen. James Risch [R],Republican\n",
      "412323,NH,,Yea,Sen. Jeanne Shaheen [D],Democrat\n",
      "412325,OR,,Yea,Sen. Jeff Merkley [D],Democrat\n",
      "412330,CO,,Yea,Sen. Michael Bennet [D],Democrat\n",
      "412378,MN,,Yea,Sen. Alan “Al” Franken [D],Democrat\n",
      "412390,DE,,Yea,Sen. Chris Coons [D],Democrat\n",
      "412391,WV,,Yea,Sen. Joe Manchin III [D],Democrat\n",
      "412406,CO,,Yea,Sen. Cory Gardner [R],Republican\n",
      "412464,OK,,Yea,Sen. James Lankford [R],Republican\n",
      "412471,SC,,Yea,Sen. Tim Scott [R],Republican\n",
      "412490,CT,,Yea,Sen. Richard Blumenthal [D],Democrat\n",
      "412491,FL,,Yea,Sen. Marco Rubio [R],Republican\n",
      "412492,KY,,Yea,Sen. Rand Paul [R],Republican\n",
      "412493,NH,,Yea,Sen. Kelly Ayotte [R],Republican\n",
      "412494,ND,,Yea,Sen. John Hoeven [R],Republican\n",
      "412495,UT,,Yea,Sen. Mike Lee [R],Republican\n",
      "412496,WI,,Yea,Sen. Ron Johnson [R],Republican\n",
      "412507,HI,,Yea,Sen. Brian Schatz [D],Democrat\n",
      "412508,AR,,Yea,Sen. Tom Cotton [R],Republican\n",
      "412542,MA,,Yea,Sen. Elizabeth Warren [D],Democrat\n",
      "412545,ME,,Yea,Sen. Angus King [I],Independent\n",
      "412549,MT,,Yea,Sen. Steve Daines [R],Republican\n",
      "412554,ND,,Yea,Sen. Heidi Heitkamp [D],Democrat\n",
      "412556,NE,,Yea,Sen. Deb Fischer [R],Republican\n",
      "412573,TX,,Yea,Sen. Ted Cruz [R],Republican\n",
      "412582,VA,,Yea,Sen. Timothy Kaine [D],Democrat\n",
      "412598,NJ,,Yea,Sen. Cory Booker [D],Democrat\n",
      "412665,AK,,Not Voting,Sen. Dan Sullivan [R],Republican\n",
      "412666,GA,,Yea,Sen. David Perdue [R],Republican\n",
      "412667,IA,,Yea,Sen. Joni Ernst [R],Republican\n",
      "412668,NC,,Yea,Sen. Thom Tillis [R],Republican\n",
      "412669,SD,,Yea,Sen. Mike Rounds [R],Republican\n",
      "412671,NE,,Yea,Sen. Benjamin Sasse [R],Republican\n",
      "\n"
     ]
    }
   ],
   "source": [
    "with open(\"congress_votes_114-2016_s20.csv\", encoding=\"utf-8\") as f:\n",
    "    print(f.read())"
   ]
  },
  {
   "cell_type": "markdown",
   "metadata": {},
   "source": [
    "consume iterators"
   ]
  },
  {
   "cell_type": "code",
   "execution_count": 48,
   "metadata": {},
   "outputs": [],
   "source": [
    "it = iter(\"abcdefg\")"
   ]
  },
  {
   "cell_type": "code",
   "execution_count": 49,
   "metadata": {},
   "outputs": [
    {
     "data": {
      "text/plain": [
       "'a'"
      ]
     },
     "execution_count": 49,
     "metadata": {},
     "output_type": "execute_result"
    }
   ],
   "source": [
    "next(it)"
   ]
  },
  {
   "cell_type": "code",
   "execution_count": 50,
   "metadata": {},
   "outputs": [
    {
     "data": {
      "text/plain": [
       "'b'"
      ]
     },
     "execution_count": 50,
     "metadata": {},
     "output_type": "execute_result"
    }
   ],
   "source": [
    "next(it)"
   ]
  },
  {
   "cell_type": "code",
   "execution_count": 51,
   "metadata": {},
   "outputs": [
    {
     "data": {
      "text/plain": [
       "['c', 'd', 'e', 'f', 'g']"
      ]
     },
     "execution_count": 51,
     "metadata": {},
     "output_type": "execute_result"
    }
   ],
   "source": [
    "list(it)"
   ]
  },
  {
   "cell_type": "markdown",
   "metadata": {},
   "source": [
    "# Read csv"
   ]
  },
  {
   "cell_type": "code",
   "execution_count": 52,
   "metadata": {},
   "outputs": [],
   "source": [
    "import csv"
   ]
  },
  {
   "cell_type": "code",
   "execution_count": 53,
   "metadata": {
    "scrolled": true
   },
   "outputs": [
    {
     "name": "stdout",
     "output_type": "stream",
     "text": [
      "['Senate Vote #20 2016-02-10T17:11:00 - H.R. 757: North Korea Sanctions Enforcement Act of 2016']\n",
      "['person', 'state', 'district', 'vote', 'name', 'party']\n",
      "['300002', 'TN', '', 'Yea', 'Sen. Lamar Alexander [R]', 'Republican']\n",
      "['300011', 'CA', '', 'Yea', 'Sen. Barbara Boxer [D]', 'Democrat']\n",
      "['300018', 'WA', '', 'Yea', 'Sen. Maria Cantwell [D]', 'Democrat']\n",
      "['300019', 'DE', '', 'Yea', 'Sen. Thomas Carper [D]', 'Democrat']\n",
      "['300023', 'MS', '', 'Yea', 'Sen. Thad Cochran [R]', 'Republican']\n",
      "['300025', 'ME', '', 'Yea', 'Sen. Susan Collins [R]', 'Republican']\n",
      "['300027', 'TX', '', 'Yea', 'Sen. John Cornyn [R]', 'Republican']\n",
      "['300030', 'ID', '', 'Yea', 'Sen. Michael Crapo [R]', 'Republican']\n",
      "['300038', 'IL', '', 'Not Voting', 'Sen. Richard Durbin [D]', 'Democrat']\n",
      "['300041', 'WY', '', 'Yea', 'Sen. Michael Enzi [R]', 'Republican']\n",
      "['300043', 'CA', '', 'Yea', 'Sen. Dianne Feinstein [D]', 'Democrat']\n",
      "['300047', 'SC', '', 'Not Voting', 'Sen. Lindsey Graham [R]', 'Republican']\n",
      "['300048', 'IA', '', 'Yea', 'Sen. Charles “Chuck” Grassley [R]', 'Republican']\n",
      "['300052', 'UT', '', 'Yea', 'Sen. Orrin Hatch [R]', 'Republican']\n",
      "['300055', 'OK', '', 'Yea', 'Sen. James “Jim” Inhofe [R]', 'Republican']\n",
      "['300065', 'VT', '', 'Yea', 'Sen. Patrick Leahy [D]', 'Democrat']\n",
      "['300071', 'AZ', '', 'Yea', 'Sen. John McCain [R]', 'Republican']\n",
      "['300072', 'KY', '', 'Yea', 'Sen. Mitch McConnell [R]', 'Republican']\n",
      "['300073', 'MD', '', 'Yea', 'Sen. Barbara Mikulski [D]', 'Democrat']\n",
      "['300075', 'AK', '', 'Yea', 'Sen. Lisa Murkowski [R]', 'Republican']\n",
      "['300076', 'WA', '', 'Yea', 'Sen. Patty Murray [D]', 'Democrat']\n",
      "['300078', 'FL', '', 'Yea', 'Sen. Bill Nelson [D]', 'Democrat']\n",
      "['300081', 'RI', '', 'Yea', 'Sen. John “Jack” Reed [D]', 'Democrat']\n",
      "['300082', 'NV', '', 'Yea', 'Sen. Harry Reid [D]', 'Democrat']\n",
      "['300083', 'KS', '', 'Yea', 'Sen. Pat Roberts [R]', 'Republican']\n",
      "['300087', 'NY', '', 'Yea', 'Sen. Charles “Chuck” Schumer [D]', 'Democrat']\n",
      "['300088', 'AL', '', 'Yea', 'Sen. Jefferson “Jeff” Sessions [R]', 'Republican']\n",
      "['300089', 'AL', '', 'Yea', 'Sen. Richard Shelby [R]', 'Republican']\n",
      "['300093', 'MI', '', 'Yea', 'Sen. Debbie Stabenow [D]', 'Democrat']\n",
      "['300100', 'OR', '', 'Yea', 'Sen. Ron Wyden [D]', 'Democrat']\n",
      "['400013', 'WI', '', 'Yea', 'Sen. Tammy Baldwin [D]', 'Democrat']\n",
      "['400034', 'MO', '', 'Yea', 'Sen. Roy Blunt [R]', 'Republican']\n",
      "['400040', 'AR', '', 'Yea', 'Sen. John Boozman [R]', 'Republican']\n",
      "['400050', 'OH', '', 'Yea', 'Sen. Sherrod Brown [D]', 'Democrat']\n",
      "['400054', 'NC', '', 'Yea', 'Sen. Richard Burr [R]', 'Republican']\n",
      "['400061', 'WV', '', 'Yea', 'Sen. Shelley Capito [R]', 'Republican']\n",
      "['400064', 'MD', '', 'Yea', 'Sen. Benjamin Cardin [D]', 'Democrat']\n",
      "['400134', 'AZ', '', 'Yea', 'Sen. Jeff Flake [R]', 'Republican']\n",
      "['400194', 'GA', '', 'Yea', 'Sen. John “Johnny” Isakson [R]', 'Republican']\n",
      "['400222', 'IL', '', 'Yea', 'Sen. Mark Kirk [R]', 'Republican']\n",
      "['400253', 'MA', '', 'Yea', 'Sen. Edward “Ed” Markey [D]', 'Democrat']\n",
      "['400272', 'NJ', '', 'Yea', 'Sen. Robert “Bob” Menéndez [D]', 'Democrat']\n",
      "['400284', 'KS', '', 'Yea', 'Sen. Jerry Moran [R]', 'Republican']\n",
      "['400325', 'OH', '', 'Yea', 'Sen. Robert “Rob” Portman [R]', 'Republican']\n",
      "['400357', 'VT', '', 'Not Voting', 'Sen. Bernard “Bernie” Sanders [I]', 'Independent']\n",
      "['400408', 'PA', '', 'Yea', 'Sen. Patrick “Pat” Toomey [R]', 'Republican']\n",
      "['400413', 'NM', '', 'Yea', 'Sen. Tom Udall [D]', 'Democrat']\n",
      "['400418', 'LA', '', 'Yea', 'Sen. David Vitter [R]', 'Republican']\n",
      "['400432', 'MS', '', 'Yea', 'Sen. Roger Wicker [R]', 'Republican']\n",
      "['400546', 'SD', '', 'Yea', 'Sen. John Thune [R]', 'Republican']\n",
      "['402675', 'IN', '', 'Yea', 'Sen. Daniel Coats [R]', 'Republican']\n",
      "['412194', 'CT', '', 'Yea', 'Sen. Christopher Murphy [D]', 'Democrat']\n",
      "['412200', 'HI', '', 'Yea', 'Sen. Mazie Hirono [D]', 'Democrat']\n",
      "['412205', 'IN', '', 'Yea', 'Sen. Joe Donnelly [D]', 'Democrat']\n",
      "['412218', 'NV', '', 'Yea', 'Sen. Dean Heller [R]', 'Republican']\n",
      "['412223', 'NY', '', 'Yea', 'Sen. Kirsten Gillibrand [D]', 'Democrat']\n",
      "['412242', 'MN', '', 'Yea', 'Sen. Amy Klobuchar [D]', 'Democrat']\n",
      "['412243', 'MO', '', 'Yea', 'Sen. Claire McCaskill [D]', 'Democrat']\n",
      "['412244', 'MT', '', 'Yea', 'Sen. Jon Tester [D]', 'Democrat']\n",
      "['412246', 'PA', '', 'Yea', 'Sen. Robert “Bob” Casey Jr. [D]', 'Democrat']\n",
      "['412247', 'RI', '', 'Yea', 'Sen. Sheldon Whitehouse [D]', 'Democrat']\n",
      "['412248', 'TN', '', 'Yea', 'Sen. Bob Corker [R]', 'Republican']\n",
      "['412251', 'WY', '', 'Yea', 'Sen. John Barrasso [R]', 'Republican']\n",
      "['412269', 'LA', '', 'Yea', 'Sen. Bill Cassidy [R]', 'Republican']\n",
      "['412281', 'NM', '', 'Yea', 'Sen. Martin Heinrich [D]', 'Democrat']\n",
      "['412305', 'MI', '', 'Yea', 'Sen. Gary Peters [D]', 'Democrat']\n",
      "['412321', 'VA', '', 'Yea', 'Sen. Mark Warner [D]', 'Democrat']\n",
      "['412322', 'ID', '', 'Yea', 'Sen. James Risch [R]', 'Republican']\n",
      "['412323', 'NH', '', 'Yea', 'Sen. Jeanne Shaheen [D]', 'Democrat']\n",
      "['412325', 'OR', '', 'Yea', 'Sen. Jeff Merkley [D]', 'Democrat']\n",
      "['412330', 'CO', '', 'Yea', 'Sen. Michael Bennet [D]', 'Democrat']\n",
      "['412378', 'MN', '', 'Yea', 'Sen. Alan “Al” Franken [D]', 'Democrat']\n",
      "['412390', 'DE', '', 'Yea', 'Sen. Chris Coons [D]', 'Democrat']\n",
      "['412391', 'WV', '', 'Yea', 'Sen. Joe Manchin III [D]', 'Democrat']\n",
      "['412406', 'CO', '', 'Yea', 'Sen. Cory Gardner [R]', 'Republican']\n",
      "['412464', 'OK', '', 'Yea', 'Sen. James Lankford [R]', 'Republican']\n",
      "['412471', 'SC', '', 'Yea', 'Sen. Tim Scott [R]', 'Republican']\n",
      "['412490', 'CT', '', 'Yea', 'Sen. Richard Blumenthal [D]', 'Democrat']\n",
      "['412491', 'FL', '', 'Yea', 'Sen. Marco Rubio [R]', 'Republican']\n",
      "['412492', 'KY', '', 'Yea', 'Sen. Rand Paul [R]', 'Republican']\n",
      "['412493', 'NH', '', 'Yea', 'Sen. Kelly Ayotte [R]', 'Republican']\n",
      "['412494', 'ND', '', 'Yea', 'Sen. John Hoeven [R]', 'Republican']\n",
      "['412495', 'UT', '', 'Yea', 'Sen. Mike Lee [R]', 'Republican']\n",
      "['412496', 'WI', '', 'Yea', 'Sen. Ron Johnson [R]', 'Republican']\n",
      "['412507', 'HI', '', 'Yea', 'Sen. Brian Schatz [D]', 'Democrat']\n",
      "['412508', 'AR', '', 'Yea', 'Sen. Tom Cotton [R]', 'Republican']\n",
      "['412542', 'MA', '', 'Yea', 'Sen. Elizabeth Warren [D]', 'Democrat']\n",
      "['412545', 'ME', '', 'Yea', 'Sen. Angus King [I]', 'Independent']\n",
      "['412549', 'MT', '', 'Yea', 'Sen. Steve Daines [R]', 'Republican']\n",
      "['412554', 'ND', '', 'Yea', 'Sen. Heidi Heitkamp [D]', 'Democrat']\n",
      "['412556', 'NE', '', 'Yea', 'Sen. Deb Fischer [R]', 'Republican']\n",
      "['412573', 'TX', '', 'Yea', 'Sen. Ted Cruz [R]', 'Republican']\n",
      "['412582', 'VA', '', 'Yea', 'Sen. Timothy Kaine [D]', 'Democrat']\n",
      "['412598', 'NJ', '', 'Yea', 'Sen. Cory Booker [D]', 'Democrat']\n",
      "['412665', 'AK', '', 'Not Voting', 'Sen. Dan Sullivan [R]', 'Republican']\n",
      "['412666', 'GA', '', 'Yea', 'Sen. David Perdue [R]', 'Republican']\n",
      "['412667', 'IA', '', 'Yea', 'Sen. Joni Ernst [R]', 'Republican']\n",
      "['412668', 'NC', '', 'Yea', 'Sen. Thom Tillis [R]', 'Republican']\n",
      "['412669', 'SD', '', 'Yea', 'Sen. Mike Rounds [R]', 'Republican']\n",
      "['412671', 'NE', '', 'Yea', 'Sen. Benjamin Sasse [R]', 'Republican']\n"
     ]
    }
   ],
   "source": [
    "with open(\"congress_votes_114-2016_s20.csv\", encoding=\"utf-8\") as f:\n",
    "    for row in csv.reader(f):\n",
    "        print(row)"
   ]
  },
  {
   "cell_type": "markdown",
   "metadata": {},
   "source": [
    "# Tuple unpacking"
   ]
  },
  {
   "cell_type": "code",
   "execution_count": 54,
   "metadata": {},
   "outputs": [],
   "source": [
    "t = (\"Raymond\", \"Hettinger\", 54, \"python@rcn.com\")"
   ]
  },
  {
   "cell_type": "code",
   "execution_count": 55,
   "metadata": {},
   "outputs": [
    {
     "data": {
      "text/plain": [
       "tuple"
      ]
     },
     "execution_count": 55,
     "metadata": {},
     "output_type": "execute_result"
    }
   ],
   "source": [
    "type(t)"
   ]
  },
  {
   "cell_type": "code",
   "execution_count": 56,
   "metadata": {},
   "outputs": [
    {
     "data": {
      "text/plain": [
       "4"
      ]
     },
     "execution_count": 56,
     "metadata": {},
     "output_type": "execute_result"
    }
   ],
   "source": [
    "len(t)"
   ]
  },
  {
   "cell_type": "code",
   "execution_count": 57,
   "metadata": {},
   "outputs": [],
   "source": [
    "fname, lname, age, email = t"
   ]
  },
  {
   "cell_type": "code",
   "execution_count": 58,
   "metadata": {},
   "outputs": [
    {
     "data": {
      "text/plain": [
       "'Raymond'"
      ]
     },
     "execution_count": 58,
     "metadata": {},
     "output_type": "execute_result"
    }
   ],
   "source": [
    "fname"
   ]
  },
  {
   "cell_type": "code",
   "execution_count": 59,
   "metadata": {},
   "outputs": [
    {
     "data": {
      "text/plain": [
       "'Hettinger'"
      ]
     },
     "execution_count": 59,
     "metadata": {},
     "output_type": "execute_result"
    }
   ],
   "source": [
    "lname"
   ]
  },
  {
   "cell_type": "code",
   "execution_count": 60,
   "metadata": {},
   "outputs": [],
   "source": [
    "names = 'raymond rachel matthew'.split()\n",
    "colors = 'red blue yellow'.split()\n",
    "cities = 'austin dallas austin houseton chicago dallas austin'.split()"
   ]
  },
  {
   "cell_type": "code",
   "execution_count": 78,
   "metadata": {},
   "outputs": [
    {
     "name": "stdout",
     "output_type": "stream",
     "text": [
      "RAYMOND\n",
      "RACHEL\n",
      "MATTHEW\n",
      "1 raymond\n",
      "2 rachel\n",
      "3 matthew\n",
      "yellow\n",
      "blue\n",
      "red\n",
      "raymond red\n",
      "rachel blue\n",
      "matthew yellow\n",
      "red\n",
      "blue\n",
      "yellow\n",
      "austin\n",
      "chicago\n",
      "dallas\n",
      "houseton\n",
      "0 HOUSETON\n",
      "1 DALLAS\n",
      "2 CHICAGO\n",
      "3 AUSTIN\n"
     ]
    }
   ],
   "source": [
    "# loop idioms\n",
    "for name in names:\n",
    "    print(name.upper())\n",
    "    \n",
    "for i, name in enumerate(names, start=1):\n",
    "    print(i, name)\n",
    "    \n",
    "# backward\n",
    "for color in reversed(colors):\n",
    "    print(color)\n",
    "    \n",
    "# zip\n",
    "for name, color in zip(names, colors):\n",
    "    print(name, color)\n",
    "    \n",
    "# sorted colors by length\n",
    "for color in sorted(colors, key=len):\n",
    "    print(color)\n",
    "    \n",
    "# remove duplicate in cities & sort\n",
    "for city in sorted(set(cities)):\n",
    "    print(city)\n",
    "    \n",
    "# functional programming\n",
    "for i, city in enumerate(map(str.upper, reversed(sorted(set(cities))))):\n",
    "    print(i, city)"
   ]
  },
  {
   "cell_type": "code",
   "execution_count": 79,
   "metadata": {},
   "outputs": [],
   "source": [
    "import collections"
   ]
  },
  {
   "cell_type": "code",
   "execution_count": 80,
   "metadata": {},
   "outputs": [],
   "source": [
    "c = collections.Counter()"
   ]
  },
  {
   "cell_type": "code",
   "execution_count": 81,
   "metadata": {},
   "outputs": [
    {
     "data": {
      "text/plain": [
       "Counter()"
      ]
     },
     "execution_count": 81,
     "metadata": {},
     "output_type": "execute_result"
    }
   ],
   "source": [
    "c"
   ]
  },
  {
   "cell_type": "code",
   "execution_count": 82,
   "metadata": {},
   "outputs": [],
   "source": [
    "c['red'] += 1"
   ]
  },
  {
   "cell_type": "code",
   "execution_count": 83,
   "metadata": {},
   "outputs": [
    {
     "data": {
      "text/plain": [
       "Counter({'red': 1})"
      ]
     },
     "execution_count": 83,
     "metadata": {},
     "output_type": "execute_result"
    }
   ],
   "source": [
    "c"
   ]
  },
  {
   "cell_type": "code",
   "execution_count": null,
   "metadata": {},
   "outputs": [],
   "source": []
  },
  {
   "cell_type": "code",
   "execution_count": null,
   "metadata": {},
   "outputs": [],
   "source": []
  },
  {
   "cell_type": "code",
   "execution_count": null,
   "metadata": {},
   "outputs": [],
   "source": []
  }
 ],
 "metadata": {
  "kernelspec": {
   "display_name": "Python 3",
   "language": "python",
   "name": "python3"
  },
  "language_info": {
   "codemirror_mode": {
    "name": "ipython",
    "version": 3
   },
   "file_extension": ".py",
   "mimetype": "text/x-python",
   "name": "python",
   "nbconvert_exporter": "python",
   "pygments_lexer": "ipython3",
   "version": "3.6.7"
  }
 },
 "nbformat": 4,
 "nbformat_minor": 2
}
