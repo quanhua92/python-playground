{
 "cells": [
  {
   "cell_type": "markdown",
   "metadata": {},
   "source": [
    "# Method Resolution Order"
   ]
  },
  {
   "cell_type": "markdown",
   "metadata": {},
   "source": [
    "Inheritance is a tool for code reuse.\n",
    "\n",
    "Python super() is different than other languages. Python's super() doesn't just call the parent of the class. Python MRO **linearize** the ancestors."
   ]
  },
  {
   "cell_type": "code",
   "execution_count": 2,
   "metadata": {},
   "outputs": [],
   "source": [
    "class Adam(object): pass\n",
    "class Eve(object): pass\n",
    "class Ramon(Adam, Eve): pass\n",
    "class Gayle(Adam, Eve): pass\n",
    "class Raymond(Ramon, Gayle): pass\n",
    "class Dennis(Adam, Eve): pass\n",
    "class Sharon(Adam, Eve): pass\n",
    "class Rachel(Dennis, Sharon): pass\n",
    "class Matthew(Raymond, Rachel): pass"
   ]
  },
  {
   "cell_type": "markdown",
   "metadata": {},
   "source": [
    "Show MRO (Method resolution order) for a multi-level diamond diagram"
   ]
  },
  {
   "cell_type": "code",
   "execution_count": 4,
   "metadata": {},
   "outputs": [
    {
     "name": "stdout",
     "output_type": "stream",
     "text": [
      "Help on class Matthew in module __main__:\n",
      "\n",
      "class Matthew(Raymond, Rachel)\n",
      " |  Method resolution order:\n",
      " |      Matthew\n",
      " |      Raymond\n",
      " |      Ramon\n",
      " |      Gayle\n",
      " |      Rachel\n",
      " |      Dennis\n",
      " |      Sharon\n",
      " |      Adam\n",
      " |      Eve\n",
      " |      builtins.object\n",
      " |  \n",
      " |  Data descriptors inherited from Adam:\n",
      " |  \n",
      " |  __dict__\n",
      " |      dictionary for instance variables (if defined)\n",
      " |  \n",
      " |  __weakref__\n",
      " |      list of weak references to the object (if defined)\n",
      "\n"
     ]
    }
   ],
   "source": [
    "help(Matthew)"
   ]
  },
  {
   "cell_type": "markdown",
   "metadata": {},
   "source": [
    "# Example 1"
   ]
  },
  {
   "cell_type": "code",
   "execution_count": 12,
   "metadata": {},
   "outputs": [],
   "source": [
    "class DoughFactory(object):\n",
    "    \n",
    "    def get_dough(self):\n",
    "        return 'insecticide treated wheat dough'\n",
    "    \n",
    "class Pizza(DoughFactory):\n",
    "    \n",
    "    def order_pizza(self, *toppings):\n",
    "        print('Getting dough')\n",
    "        dough = super().get_dough()\n",
    "        print('Making pie with %s' % dough)\n",
    "        for topping in toppings:\n",
    "            print('Adding: %s' % topping)"
   ]
  },
  {
   "cell_type": "code",
   "execution_count": 14,
   "metadata": {},
   "outputs": [
    {
     "name": "stdout",
     "output_type": "stream",
     "text": [
      "Getting dough\n",
      "Making pie with insecticide treated wheat dough\n",
      "Adding: Pepperoni\n",
      "Adding: Bell Pepper\n"
     ]
    }
   ],
   "source": [
    "Pizza().order_pizza('Pepperoni', 'Bell Pepper')"
   ]
  },
  {
   "cell_type": "code",
   "execution_count": 15,
   "metadata": {},
   "outputs": [
    {
     "name": "stdout",
     "output_type": "stream",
     "text": [
      "Help on class Pizza in module __main__:\n",
      "\n",
      "class Pizza(DoughFactory)\n",
      " |  Method resolution order:\n",
      " |      Pizza\n",
      " |      DoughFactory\n",
      " |      builtins.object\n",
      " |  \n",
      " |  Methods defined here:\n",
      " |  \n",
      " |  order_pizza(self, *toppings)\n",
      " |  \n",
      " |  ----------------------------------------------------------------------\n",
      " |  Methods inherited from DoughFactory:\n",
      " |  \n",
      " |  get_dough(self)\n",
      " |  \n",
      " |  ----------------------------------------------------------------------\n",
      " |  Data descriptors inherited from DoughFactory:\n",
      " |  \n",
      " |  __dict__\n",
      " |      dictionary for instance variables (if defined)\n",
      " |  \n",
      " |  __weakref__\n",
      " |      list of weak references to the object (if defined)\n",
      "\n"
     ]
    }
   ],
   "source": [
    "help(Pizza)"
   ]
  },
  {
   "cell_type": "code",
   "execution_count": 16,
   "metadata": {},
   "outputs": [],
   "source": [
    "class OrganicDoughFactory(DoughFactory):\n",
    "    def get_dough(self):\n",
    "        return 'pure untreated wheat dough'\n",
    "    \n",
    "class OrganicPizza(Pizza, OrganicDoughFactory):\n",
    "    pass"
   ]
  },
  {
   "cell_type": "markdown",
   "metadata": {},
   "source": [
    "In OrganicPizza, **super()** in class Pizza is decided by OrganicPizza (the child of Pizza) instead of Pizza.\n",
    "\n",
    "The linearization algorithm guarantees that OrganicDoughFactory goes before DoughFactory"
   ]
  },
  {
   "cell_type": "code",
   "execution_count": 17,
   "metadata": {},
   "outputs": [
    {
     "name": "stdout",
     "output_type": "stream",
     "text": [
      "Getting dough\n",
      "Making pie with pure untreated wheat dough\n",
      "Adding: Saussage\n",
      "Adding: Mushroom\n"
     ]
    }
   ],
   "source": [
    "OrganicPizza().order_pizza('Saussage', 'Mushroom')"
   ]
  },
  {
   "cell_type": "code",
   "execution_count": 18,
   "metadata": {},
   "outputs": [
    {
     "name": "stdout",
     "output_type": "stream",
     "text": [
      "Help on class OrganicPizza in module __main__:\n",
      "\n",
      "class OrganicPizza(Pizza, OrganicDoughFactory)\n",
      " |  Method resolution order:\n",
      " |      OrganicPizza\n",
      " |      Pizza\n",
      " |      OrganicDoughFactory\n",
      " |      DoughFactory\n",
      " |      builtins.object\n",
      " |  \n",
      " |  Methods inherited from Pizza:\n",
      " |  \n",
      " |  order_pizza(self, *toppings)\n",
      " |  \n",
      " |  ----------------------------------------------------------------------\n",
      " |  Methods inherited from OrganicDoughFactory:\n",
      " |  \n",
      " |  get_dough(self)\n",
      " |  \n",
      " |  ----------------------------------------------------------------------\n",
      " |  Data descriptors inherited from DoughFactory:\n",
      " |  \n",
      " |  __dict__\n",
      " |      dictionary for instance variables (if defined)\n",
      " |  \n",
      " |  __weakref__\n",
      " |      list of weak references to the object (if defined)\n",
      "\n"
     ]
    }
   ],
   "source": [
    "help(OrganicPizza)"
   ]
  },
  {
   "cell_type": "markdown",
   "metadata": {},
   "source": [
    "# Example 2: Dependency Injection"
   ]
  },
  {
   "cell_type": "code",
   "execution_count": 19,
   "metadata": {},
   "outputs": [],
   "source": [
    "class Robot(object):\n",
    "    def fetch(self, tool):\n",
    "        print('Physical Movement! Fetching')\n",
    "    def move_forward(self, tool):\n",
    "        print('Physical Movement! Moving forward')\n",
    "    def move_backward(self, tool):\n",
    "        print('Physical Movement! Moving backward')\n",
    "    def replace(self, tool):\n",
    "        print('Physical Movement! Replacing')"
   ]
  },
  {
   "cell_type": "code",
   "execution_count": 64,
   "metadata": {},
   "outputs": [],
   "source": [
    "class CleaningRobot(Robot):\n",
    "    \n",
    "    def clean(self, tool, times=3):\n",
    "        super().fetch(tool)\n",
    "        for i in range(times):\n",
    "            super().move_forward(tool)\n",
    "            super().move_backward(tool)\n",
    "        super().replace(tool)"
   ]
  },
  {
   "cell_type": "code",
   "execution_count": 65,
   "metadata": {},
   "outputs": [
    {
     "name": "stdout",
     "output_type": "stream",
     "text": [
      "Physical Movement! Fetching\n",
      "Physical Movement! Moving forward\n",
      "Physical Movement! Moving backward\n",
      "Physical Movement! Moving forward\n",
      "Physical Movement! Moving backward\n",
      "Physical Movement! Moving forward\n",
      "Physical Movement! Moving backward\n",
      "Physical Movement! Replacing\n"
     ]
    }
   ],
   "source": [
    "t = CleaningRobot()\n",
    "t.clean('broom')"
   ]
  },
  {
   "cell_type": "markdown",
   "metadata": {},
   "source": [
    "Mock Robot to test instead of use the real Robot.\n",
    "\n",
    "Problem: CleaningRobot is hardwired with Robot because of the inheritance -> Cleaning Robot **is a** Robot, not **has a** robot"
   ]
  },
  {
   "cell_type": "code",
   "execution_count": 66,
   "metadata": {},
   "outputs": [],
   "source": [
    "class MockBot(Robot):\n",
    "    def __init__(self):\n",
    "        self.tasks = []\n",
    "    def fetch(self, tool):\n",
    "        self.tasks.append('fetching %s' % tool)\n",
    "    def move_forward(self, tool):\n",
    "        self.tasks.append('forward %s' % tool)\n",
    "    def move_backward(self, tool):\n",
    "        self.tasks.append('backward %s' % tool)\n",
    "    def replace(self, tool):\n",
    "        self.tasks.append('replace %s' % tool)"
   ]
  },
  {
   "cell_type": "code",
   "execution_count": 67,
   "metadata": {},
   "outputs": [],
   "source": [
    "class MockedCleaningRobot(CleaningRobot, MockBot):\n",
    "    pass"
   ]
  },
  {
   "cell_type": "code",
   "execution_count": 68,
   "metadata": {},
   "outputs": [
    {
     "data": {
      "text/plain": [
       "True"
      ]
     },
     "execution_count": 68,
     "metadata": {},
     "output_type": "execute_result"
    }
   ],
   "source": [
    "t = MockedCleaningRobot()\n",
    "t.clean('broom')\n",
    "\n",
    "expected = ['fetching broom'] + ['forward broom', 'backward broom'] * 3 + ['replace broom']\n",
    "\n",
    "t.tasks == expected"
   ]
  },
  {
   "cell_type": "code",
   "execution_count": 31,
   "metadata": {},
   "outputs": [
    {
     "name": "stdout",
     "output_type": "stream",
     "text": [
      "Help on class MockedCleaningRobot in module __main__:\n",
      "\n",
      "class MockedCleaningRobot(CleaningRobot, MockBot)\n",
      " |  Method resolution order:\n",
      " |      MockedCleaningRobot\n",
      " |      CleaningRobot\n",
      " |      MockBot\n",
      " |      Robot\n",
      " |      builtins.object\n",
      " |  \n",
      " |  Methods inherited from CleaningRobot:\n",
      " |  \n",
      " |  clean(self, tool, times=3)\n",
      " |  \n",
      " |  ----------------------------------------------------------------------\n",
      " |  Methods inherited from MockBot:\n",
      " |  \n",
      " |  __init__(self)\n",
      " |      Initialize self.  See help(type(self)) for accurate signature.\n",
      " |  \n",
      " |  fetch(self, tool)\n",
      " |  \n",
      " |  move_backward(self, tool)\n",
      " |  \n",
      " |  move_forward(self, tool)\n",
      " |  \n",
      " |  replace(self, tool)\n",
      " |  \n",
      " |  ----------------------------------------------------------------------\n",
      " |  Data descriptors inherited from Robot:\n",
      " |  \n",
      " |  __dict__\n",
      " |      dictionary for instance variables (if defined)\n",
      " |  \n",
      " |  __weakref__\n",
      " |      list of weak references to the object (if defined)\n",
      "\n"
     ]
    }
   ],
   "source": [
    "help(MockedCleaningRobot)"
   ]
  },
  {
   "cell_type": "markdown",
   "metadata": {},
   "source": [
    "# Example 3"
   ]
  },
  {
   "cell_type": "code",
   "execution_count": 39,
   "metadata": {},
   "outputs": [],
   "source": [
    "from collections import Counter, OrderedDict"
   ]
  },
  {
   "cell_type": "code",
   "execution_count": 42,
   "metadata": {},
   "outputs": [],
   "source": [
    "class OrderedCounter(Counter, OrderedDict):\n",
    "    def __repr__(self):\n",
    "        return '%s(%r)' % (self.__class__.__name__, OrderedDict(self))\n",
    "    \n",
    "    def __reduce__(self):\n",
    "        return self.__class__, (OrderedDict(self), )"
   ]
  },
  {
   "cell_type": "code",
   "execution_count": 43,
   "metadata": {},
   "outputs": [
    {
     "name": "stdout",
     "output_type": "stream",
     "text": [
      "OrderedCounter(OrderedDict([('a', 4), ('b', 1), ('c', 1), ('d', 3), ('f', 2), ('s', 1)]))\n"
     ]
    }
   ],
   "source": [
    "oc = OrderedCounter('abcdadfaadsf')\n",
    "print(oc)"
   ]
  },
  {
   "cell_type": "markdown",
   "metadata": {},
   "source": [
    "# Example 4"
   ]
  },
  {
   "cell_type": "markdown",
   "metadata": {},
   "source": [
    "pass arguments with **kwds**"
   ]
  },
  {
   "cell_type": "code",
   "execution_count": 75,
   "metadata": {},
   "outputs": [],
   "source": [
    "class Shape:\n",
    "    def __init__(self, shapename, **kwds):\n",
    "        self.shapename = shapename\n",
    "        super().__init__(**kwds)        \n",
    "\n",
    "class ColoredShape(Shape):\n",
    "    def __init__(self, color, **kwds):\n",
    "        self.color = color\n",
    "        super().__init__(**kwds)\n",
    "\n",
    "cs = ColoredShape(color='red', shapename='circle')"
   ]
  },
  {
   "cell_type": "code",
   "execution_count": 79,
   "metadata": {},
   "outputs": [
    {
     "data": {
      "text/plain": [
       "(__main__.ColoredShape, __main__.Shape, object)"
      ]
     },
     "execution_count": 79,
     "metadata": {},
     "output_type": "execute_result"
    }
   ],
   "source": [
    "ColoredShape.__mro__"
   ]
  },
  {
   "cell_type": "markdown",
   "metadata": {},
   "source": [
    "Create a Root class with draw() so Shape can call super().draw()"
   ]
  },
  {
   "cell_type": "code",
   "execution_count": 80,
   "metadata": {},
   "outputs": [
    {
     "name": "stdout",
     "output_type": "stream",
     "text": [
      "Drawing.  Setting color to: blue\n",
      "Drawing.  Setting shape to: square\n"
     ]
    }
   ],
   "source": [
    "class Root:\n",
    "    def draw(self):\n",
    "        # the delegation chain stops here\n",
    "        assert not hasattr(super(), 'draw')\n",
    "\n",
    "class Shape(Root):\n",
    "    def __init__(self, shapename, **kwds):\n",
    "        self.shapename = shapename\n",
    "        super().__init__(**kwds)\n",
    "    def draw(self):\n",
    "        print('Drawing.  Setting shape to:', self.shapename)\n",
    "        super().draw()\n",
    "\n",
    "class ColoredShape(Shape):\n",
    "    def __init__(self, color, **kwds):\n",
    "        self.color = color\n",
    "        super().__init__(**kwds)\n",
    "    def draw(self):\n",
    "        print('Drawing.  Setting color to:', self.color)\n",
    "        super().draw()\n",
    "\n",
    "cs = ColoredShape(color='blue', shapename='square')\n",
    "cs.draw()"
   ]
  },
  {
   "cell_type": "markdown",
   "metadata": {},
   "source": [
    "Incorporate a non-cooperative class"
   ]
  },
  {
   "cell_type": "code",
   "execution_count": 81,
   "metadata": {},
   "outputs": [],
   "source": [
    "class Moveable:\n",
    "    def __init__(self, x, y):\n",
    "        self.x = x\n",
    "        self.y = y\n",
    "    def draw(self):\n",
    "        print('Drawing at position:', self.x, self.y)"
   ]
  },
  {
   "cell_type": "code",
   "execution_count": 82,
   "metadata": {},
   "outputs": [
    {
     "name": "stdout",
     "output_type": "stream",
     "text": [
      "Drawing.  Setting color to: red\n",
      "Drawing.  Setting shape to: triangle\n",
      "Drawing at position: 10 20\n"
     ]
    }
   ],
   "source": [
    "class MoveableAdapter(Root):\n",
    "    def __init__(self, x, y, **kwds):\n",
    "        self.movable = Moveable(x, y)\n",
    "        super().__init__(**kwds)\n",
    "    def draw(self):\n",
    "        self.movable.draw()\n",
    "        super().draw()\n",
    "\n",
    "class MovableColoredShape(ColoredShape, MoveableAdapter):\n",
    "    pass\n",
    "\n",
    "MovableColoredShape(color='red', shapename='triangle',\n",
    "                    x=10, y=20).draw()"
   ]
  },
  {
   "cell_type": "markdown",
   "metadata": {},
   "source": [
    "# **super** means: **the next one in the line** (from linearization)\n",
    "## two constraints: children precede their parents and the order of appearance in __bases__ is respected."
   ]
  },
  {
   "cell_type": "code",
   "execution_count": 69,
   "metadata": {},
   "outputs": [],
   "source": [
    "class A:\n",
    "    def save(self): pass\n",
    "\n",
    "class B(A): pass\n",
    "\n",
    "class C(A):\n",
    "    def save(self): pass\n",
    "\n",
    "class D(B, C): pass"
   ]
  },
  {
   "cell_type": "code",
   "execution_count": 70,
   "metadata": {},
   "outputs": [
    {
     "name": "stdout",
     "output_type": "stream",
     "text": [
      "Help on class D in module __main__:\n",
      "\n",
      "class D(B, C)\n",
      " |  Method resolution order:\n",
      " |      D\n",
      " |      B\n",
      " |      C\n",
      " |      A\n",
      " |      builtins.object\n",
      " |  \n",
      " |  Methods inherited from C:\n",
      " |  \n",
      " |  save(self)\n",
      " |  \n",
      " |  ----------------------------------------------------------------------\n",
      " |  Data descriptors inherited from A:\n",
      " |  \n",
      " |  __dict__\n",
      " |      dictionary for instance variables (if defined)\n",
      " |  \n",
      " |  __weakref__\n",
      " |      list of weak references to the object (if defined)\n",
      "\n"
     ]
    }
   ],
   "source": [
    "help(D)"
   ]
  },
  {
   "cell_type": "code",
   "execution_count": null,
   "metadata": {},
   "outputs": [],
   "source": []
  }
 ],
 "metadata": {
  "jupytext": {
   "formats": "ipynb,py:light"
  },
  "kernelspec": {
   "display_name": "Python 3",
   "language": "python",
   "name": "python3"
  },
  "language_info": {
   "codemirror_mode": {
    "name": "ipython",
    "version": 3
   },
   "file_extension": ".py",
   "mimetype": "text/x-python",
   "name": "python",
   "nbconvert_exporter": "python",
   "pygments_lexer": "ipython3",
   "version": "3.6.7"
  }
 },
 "nbformat": 4,
 "nbformat_minor": 2
}
