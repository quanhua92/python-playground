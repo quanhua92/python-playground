{
 "cells": [
  {
   "cell_type": "code",
   "execution_count": 1,
   "metadata": {},
   "outputs": [],
   "source": [
    "from pprint import pprint\n",
    "from typing import *"
   ]
  },
  {
   "cell_type": "code",
   "execution_count": 2,
   "metadata": {},
   "outputs": [],
   "source": [
    "from functools import partial\n",
    "from collections import defaultdict\n",
    "from math import fsum, sqrt\n",
    "from random import sample"
   ]
  },
  {
   "cell_type": "code",
   "execution_count": 3,
   "metadata": {},
   "outputs": [],
   "source": [
    "Point = Tuple[int, ...]\n",
    "Centroid = Point"
   ]
  },
  {
   "cell_type": "code",
   "execution_count": 4,
   "metadata": {},
   "outputs": [],
   "source": [
    "def mean(data: Iterable[float]) -> float:\n",
    "    'Accurate arithmetic mean'\n",
    "    data = list(data)\n",
    "    return fsum(data) / len(data)"
   ]
  },
  {
   "cell_type": "markdown",
   "metadata": {},
   "source": [
    "fsum, sqrt, zip as arguments so that can be loaded locally in the function -> faster than load globally. \n",
    "\n",
    "Use ```from dis import dis; dis(dist);``` to see local/global"
   ]
  },
  {
   "cell_type": "code",
   "execution_count": 5,
   "metadata": {},
   "outputs": [],
   "source": [
    "def dist(p: Point, q: Point, fsum=fsum, sqrt=sqrt, zip=zip) -> float:\n",
    "    'Euclidean distance function for multi-dimensional data'\n",
    "    return sqrt(fsum([(x - y) ** 2 for x, y in zip(p, q)]))"
   ]
  },
  {
   "cell_type": "code",
   "execution_count": 6,
   "metadata": {},
   "outputs": [],
   "source": [
    "def assign_data(centroids: Sequence[Point], data: Iterable[Point]) -> Dict[Centroid, List[Point]]:\n",
    "    'Group the data points to the closest centroid'\n",
    "    d = defaultdict(list)\n",
    "    for point in data:\n",
    "        closest_centroid = min(centroids, key=partial(dist, point))\n",
    "        d[closest_centroid].append(point)\n",
    "    return dict(d)"
   ]
  },
  {
   "cell_type": "code",
   "execution_count": 7,
   "metadata": {},
   "outputs": [],
   "source": [
    "def compute_centroids(groups: Iterable[Sequence[Point]]) -> List[Centroid]:\n",
    "    'Compute the centroid of each group'\n",
    "    return [tuple(map(mean, zip(*group))) for group in groups]"
   ]
  },
  {
   "cell_type": "code",
   "execution_count": 25,
   "metadata": {},
   "outputs": [],
   "source": [
    "def k_means(data: Iterable[Point], k: int=2, iterations: int=50) -> List[Centroid]:\n",
    "    data = list(data)\n",
    "    centroids = sample(data, k)\n",
    "    for i in range(iterations):\n",
    "        labeled = assign_data(centroids, data)\n",
    "        centroids = compute_centroids(labeled.values())\n",
    "    return centroids"
   ]
  },
  {
   "cell_type": "code",
   "execution_count": 39,
   "metadata": {},
   "outputs": [],
   "source": [
    "points = [\n",
    "    (10, 41, 23),\n",
    "    (22, 30, 29),\n",
    "    (11, 42, 5),\n",
    "    (20, 32, 4),\n",
    "    (12, 40, 12),\n",
    "    (21, 36, 23),\n",
    "]\n",
    "\n",
    "centroids = k_means(points, k=3)\n",
    "\n",
    "d = assign_data(centroids, points)"
   ]
  },
  {
   "cell_type": "code",
   "execution_count": 44,
   "metadata": {},
   "outputs": [
    {
     "name": "stdout",
     "output_type": "stream",
     "text": [
      "{(10.0, 41.0, 23.0): [(10, 41, 23)],\n",
      " (14.333333333333334, 38.0, 7.0): [(11, 42, 5),\n",
      "                                   (20, 32, 4),\n",
      "                                   (12, 40, 12)],\n",
      " (21.5, 33.0, 26.0): [(22, 30, 29), (21, 36, 23)]}\n"
     ]
    }
   ],
   "source": [
    "pprint(d, width=60)"
   ]
  },
  {
   "cell_type": "code",
   "execution_count": null,
   "metadata": {},
   "outputs": [],
   "source": []
  }
 ],
 "metadata": {
  "jupytext": {
   "formats": "ipynb,py:light"
  },
  "kernelspec": {
   "display_name": "Python 3",
   "language": "python",
   "name": "python3"
  },
  "language_info": {
   "codemirror_mode": {
    "name": "ipython",
    "version": 3
   },
   "file_extension": ".py",
   "mimetype": "text/x-python",
   "name": "python",
   "nbconvert_exporter": "python",
   "pygments_lexer": "ipython3",
   "version": "3.6.7"
  }
 },
 "nbformat": 4,
 "nbformat_minor": 2
}
