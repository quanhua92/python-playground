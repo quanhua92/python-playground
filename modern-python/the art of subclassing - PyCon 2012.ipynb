{
 "cells": [
  {
   "cell_type": "markdown",
   "metadata": {},
   "source": [
    "# Simple example of subclassing"
   ]
  },
  {
   "cell_type": "code",
   "execution_count": 1,
   "metadata": {},
   "outputs": [],
   "source": [
    "class Animal:\n",
    "    \n",
    "    def __init__(self, name):\n",
    "        self.name = name\n",
    "        \n",
    "    def walk(self):\n",
    "        print(f'{self.name} is walking')\n",
    "        \n",
    "class Dog(Animal):\n",
    "    \n",
    "    def bark(self):\n",
    "        print('Woof')"
   ]
  },
  {
   "cell_type": "markdown",
   "metadata": {},
   "source": [
    "Adding:\n",
    "- Dog add the bark() method to Animal. This is a new capability\n",
    "\n",
    "Override:\n",
    "- Snake replaces the walk() method of animation with a walk() method that knows how to slither\n",
    "\n",
    "Extending:\n",
    "- Cat modifies the walk() method to add tail swishing behavior while delegating the work of actual walking to its parent."
   ]
  },
  {
   "cell_type": "markdown",
   "metadata": {},
   "source": [
    "# Pattern of Subclassing: Frameworks\n",
    "- The parent class supplies all the \"controller\" functionality and makes calls to pre-named stub methods\n",
    "- The subclass overrides stub methods of interest\n",
    "\n",
    "# Pattern of Subclassing: Dynamic dispatch to subclass methods\n",
    "- The parent class uses getatter() to dispatch to new functionality\n",
    "- The child class implements appropriately named methods\n",
    "\n",
    "```python\n",
    "# parent class\n",
    "def onecmd(self, cmd, arg):\n",
    "    try:\n",
    "        func = getattr(self, 'do_' + cmd)\n",
    "    except AttributeError:\n",
    "        return self.default(cmd)\n",
    "    return func(arg)\n",
    "# child class:\n",
    "def do_pendown(self):\n",
    "    pass\n",
    "```\n",
    "\n",
    "# Pattern of Subclassing: Call Patterns"
   ]
  },
  {
   "cell_type": "code",
   "execution_count": 12,
   "metadata": {},
   "outputs": [],
   "source": [
    "import math\n",
    "\n",
    "class Circle:\n",
    "    def __init__(self, radius):\n",
    "        self.radius = radius\n",
    "    \n",
    "    def area(self):\n",
    "        return self.radius ** 2 * math.pi\n",
    "    \n",
    "    def __repr__(self):\n",
    "        return f'{self.__class__.__name__} has area {self.area()}'\n",
    "    \n",
    "class Donut(Circle):\n",
    "    \n",
    "    def __init__(self, outer, inner):\n",
    "        super().__init__(outer)\n",
    "        self.inner = inner\n",
    "    \n",
    "    def area(self):\n",
    "        outer, inner = self.radius, self.inner\n",
    "        return Circle(outer).area() - Circle(inner).area()"
   ]
  },
  {
   "cell_type": "code",
   "execution_count": 13,
   "metadata": {},
   "outputs": [
    {
     "name": "stdout",
     "output_type": "stream",
     "text": [
      "Donut has area 50.26548245743669\n"
     ]
    }
   ],
   "source": [
    "d = Donut(5, 3)\n",
    "print(d)"
   ]
  },
  {
   "cell_type": "markdown",
   "metadata": {},
   "source": [
    "# What does it mean to be an object or class?\n",
    "\n",
    "- Definition of object: An entity that encapsulates data together with functions for manipulating that data\n",
    "\n",
    "- We implement with dictionaries:\n",
    "    - Instance dictionaries hold state and point to their class\n",
    "    - Class dictionaries hold the functions (methods)\n",
    "    \n",
    "# So what is a subclass?\n",
    "- A subclass is just a class that delegates work to another class\n",
    "- A subclass and its parent are just two different dictionaries that contain functions\n",
    "- A subclass points to its parent\n",
    "- The pointer means: \"I delegate work to this class\"\n",
    "\n",
    "- **In other works, subclassing can be viewed as a technique for code re-use**\n",
    "- It is the subclass that is in charge\n",
    "- The subclass decides what work gets delegated\n",
    "\n",
    "# Contrast the operational view versus the conceptual view\n",
    "\n",
    "Operational view of subclassing:\n",
    "- Classes are dictionaries of functions\n",
    "- Subclasses point to other dictionaries to reuse their code\n",
    "- Subclasses are in complete control of what happens\n",
    "\n",
    "Conceptual view of subclass:\n",
    "- Parent classes define an interface\n",
    "- Subclasses can extend that interface\n",
    "- Parents are in charge\n",
    "- Subclasses are just sepcializations of the parent\n",
    "    - Dog is an instance of Animal that knows how to bark\n",
    "    - Counter is an instance of dict that has a default of zero\n",
    "    \n",
    "# Liskov Substitution Principle\n",
    "\n",
    "If S is a subtype of T, then objects of type T may be replaced with objects of the S\n",
    "\n",
    "# Why do we are about Liskov?\n",
    "\n",
    "It is all about polymorphism and substitutability so that our subclases can be used in client code without chaning the client code\n",
    "\n",
    "# Substitutability is a big win\n",
    "- Lots of code in python works with dictionaries\n",
    "- An OrderedDict is a dict subclass that keeps most of the API intact (fully substituable)\n",
    "\n",
    "# Liskov Violations\n",
    "- Any part of the API that isn't fully substituable\n",
    "- This is common and normal\n",
    "- In particular, useful subclasses commonly have different constructor signatures\n",
    "- For example, the array API is very similar to the list API but the constructor is different\n",
    "\n",
    "```python\n",
    "s = list(someiterable)\n",
    "s = array('c', someiterable)\n",
    "```\n",
    "\n",
    "# Goal is to isolate or minimize the impact\n",
    "\n",
    "MutableSet instances support union(), intersection() and difference()\n",
    "\n",
    "So they need to be able to create new instances of MutableSet\n",
    "\n",
    "But, the signature of the constructor is unknown\n",
    "\n",
    "So, we factor our calls to the constructor in ```_from_iterable()```"
   ]
  },
  {
   "cell_type": "markdown",
   "metadata": {},
   "source": [
    "# The Circle/Ellipse Problem\n",
    "\n",
    "- In mathematics, the circle is just a special case of an ellipse where the major and minor axes happen to be of equal length\n",
    "- So, is the Circle an appropriate subclass of Ellipse?\n",
    "- If one Ellipse method stretches an axis, what does that mean for Circle instances?\n",
    "- The problem is that circles have less information than an ellipse and have constraints that don't apply to general ellipses\n",
    "- The reverse wouldn't work either because circles have capabilities that don't apply to ellipses (i.e that bounding box is a square)\n",
    "\n",
    "# Lessons of the Circle / Ellipse Problem\n",
    "- Taxonomy hierarchies do not neatly transform into useful class hierarchies\n",
    "- Substituability can be a **hard problem**\n",
    "- More importantly, it challenges our conceptual view of a subclass as simply a form of  specialization\n",
    "- **Clarity comes from thinking about the design in terms of code reuse (the class that has the most reusable code should be the parent)**\n",
    "\n",
    "==> **Maximizing code use**"
   ]
  },
  {
   "cell_type": "markdown",
   "metadata": {},
   "source": [
    "# The Open-Closed Principle\n",
    "\"software entities should be open for extension, but closed for modification\"\n",
    "\n",
    "Sometimes it refers to use of abstract base classes to create fixed inferfaces with multiple implementations.\n",
    "\n",
    "**The view we take is that objects have internal invariants and that subclasses shouldn't be able to break those invariants.**\n",
    "\n",
    "**In other words, the classes capabilities can be extended but the underlying class shouldn't get broken**\n",
    "\n",
    "# OCP in Python witn name mangling\n",
    "\n",
    "A method named `__update` in a class called MyDict transforms the name into `_MyDict__update`. This makes the method invisible to subclasses. \n",
    "\n",
    "**Use this to create protected internal calls in addition to overriable public methods**"
   ]
  },
  {
   "cell_type": "code",
   "execution_count": 32,
   "metadata": {},
   "outputs": [],
   "source": [
    "class MyDict:\n",
    "    def __init__(self, iterable):\n",
    "        self.items_list = []\n",
    "        self.__update(iterable) # This works break if subclass override update\n",
    "        \n",
    "    def update(self, iterable):\n",
    "        for item in iterable:\n",
    "            self.items_list.append(item)\n",
    "    __update = update\n",
    "    \n",
    "class MySubClassDict(MyDict):\n",
    "    def update(self, iterable):\n",
    "        print(\"Override update\")"
   ]
  },
  {
   "cell_type": "code",
   "execution_count": 33,
   "metadata": {},
   "outputs": [],
   "source": [
    "d = MySubClassDict(list(range(0, 10)))"
   ]
  },
  {
   "cell_type": "code",
   "execution_count": 39,
   "metadata": {},
   "outputs": [
    {
     "data": {
      "text/plain": [
       "[0, 1, 2, 3, 4, 5, 6, 7, 8, 9]"
      ]
     },
     "execution_count": 39,
     "metadata": {},
     "output_type": "execute_result"
    }
   ],
   "source": [
    "d.items_list"
   ]
  },
  {
   "cell_type": "code",
   "execution_count": 40,
   "metadata": {},
   "outputs": [
    {
     "name": "stdout",
     "output_type": "stream",
     "text": [
      "Override update\n"
     ]
    }
   ],
   "source": [
    "d.update(list(range(0, 5)))"
   ]
  },
  {
   "cell_type": "code",
   "execution_count": 41,
   "metadata": {},
   "outputs": [
    {
     "data": {
      "text/plain": [
       "[0, 1, 2, 3, 4, 5, 6, 7, 8, 9]"
      ]
     },
     "execution_count": 41,
     "metadata": {},
     "output_type": "execute_result"
    }
   ],
   "source": [
    "d.items_list"
   ]
  },
  {
   "cell_type": "code",
   "execution_count": null,
   "metadata": {},
   "outputs": [],
   "source": []
  }
 ],
 "metadata": {
  "jupytext": {
   "formats": "ipynb,py:light"
  },
  "kernelspec": {
   "display_name": "Python 3",
   "language": "python",
   "name": "python3"
  },
  "language_info": {
   "codemirror_mode": {
    "name": "ipython",
    "version": 3
   },
   "file_extension": ".py",
   "mimetype": "text/x-python",
   "name": "python",
   "nbconvert_exporter": "python",
   "pygments_lexer": "ipython3",
   "version": "3.6.7"
  }
 },
 "nbformat": 4,
 "nbformat_minor": 2
}
