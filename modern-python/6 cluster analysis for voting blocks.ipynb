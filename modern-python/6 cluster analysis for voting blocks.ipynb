{
 "cells": [
  {
   "cell_type": "code",
   "execution_count": 97,
   "metadata": {},
   "outputs": [],
   "source": [
    "import csv\n",
    "import glob\n",
    "\n",
    "from typing import NamedTuple, DefaultDict, Dict, List, Tuple\n",
    "from collections import defaultdict, Counter\n",
    "from pprint import pprint"
   ]
  },
  {
   "cell_type": "code",
   "execution_count": 73,
   "metadata": {},
   "outputs": [],
   "source": [
    "NUM_SENATORS = 100"
   ]
  },
  {
   "cell_type": "code",
   "execution_count": 53,
   "metadata": {},
   "outputs": [],
   "source": [
    "Senator = NamedTuple('Senator', [('name', str), ('party', str), ('state', str)])\n",
    "VoteValue = int\n",
    "VoteHistory = Tuple[VoteValue, ...]"
   ]
  },
  {
   "cell_type": "code",
   "execution_count": 44,
   "metadata": {},
   "outputs": [],
   "source": [
    "vote_value = {'Yea': 1, 'Nay': -1, 'Not Voting': 0} # type: Dict[str, VoteValue]"
   ]
  },
  {
   "cell_type": "code",
   "execution_count": 42,
   "metadata": {},
   "outputs": [],
   "source": [
    "accumulated_record = defaultdict(list) # type: DefaultDict[Senator, List[VoteValue]]"
   ]
  },
  {
   "cell_type": "markdown",
   "metadata": {},
   "source": [
    "# Load votes"
   ]
  },
  {
   "cell_type": "code",
   "execution_count": 48,
   "metadata": {
    "scrolled": true
   },
   "outputs": [],
   "source": [
    "for filename in glob.glob('congress_data/*.csv'):    \n",
    "    with open(filename, encoding='utf-8') as f:\n",
    "        reader = csv.reader(f)\n",
    "        vote_topic = next(reader)\n",
    "        headers = next(reader)\n",
    "        for person, state, distric, vote, name, party in reader:\n",
    "            senator = Senator(name, party, state)\n",
    "            accumulated_record[senator].append(vote_value[vote])"
   ]
  },
  {
   "cell_type": "markdown",
   "metadata": {},
   "source": [
    "# Transform the record into a plain dict that maps to tuple of votes"
   ]
  },
  {
   "cell_type": "code",
   "execution_count": 54,
   "metadata": {},
   "outputs": [],
   "source": [
    "record = {senator: tuple(votes) for senator, votes in accumulated_record.items()}  # type: Dict[Senator, VoteHistory]"
   ]
  },
  {
   "cell_type": "markdown",
   "metadata": {},
   "source": [
    "# Use k-means to locate the cluster centroids, assign each senator to the nearest cluster"
   ]
  },
  {
   "cell_type": "code",
   "execution_count": 56,
   "metadata": {},
   "outputs": [],
   "source": [
    "from kmeans import k_means, assign_data"
   ]
  },
  {
   "cell_type": "code",
   "execution_count": 57,
   "metadata": {},
   "outputs": [],
   "source": [
    "centroids = k_means(record.values(), k=3)"
   ]
  },
  {
   "cell_type": "code",
   "execution_count": 65,
   "metadata": {},
   "outputs": [],
   "source": [
    "clustered_votes = assign_data(centroids, record.values())"
   ]
  },
  {
   "cell_type": "markdown",
   "metadata": {},
   "source": [
    "# Build a reverse mapping from a vote history to a list of senators who voted that way"
   ]
  },
  {
   "cell_type": "code",
   "execution_count": 75,
   "metadata": {},
   "outputs": [],
   "source": [
    "votes_to_senators = defaultdict(list)  # type: DefaultDict[VoteHistory, List[Senator]]"
   ]
  },
  {
   "cell_type": "code",
   "execution_count": 91,
   "metadata": {},
   "outputs": [],
   "source": [
    "for senator, votehistory in record.items():\n",
    "    votes_to_senators[votehistory].append(senator)"
   ]
  },
  {
   "cell_type": "code",
   "execution_count": 92,
   "metadata": {},
   "outputs": [],
   "source": [
    "assert sum([len(cluster) for cluster in votes_to_senators.values()]) == NUM_SENATORS"
   ]
  },
  {
   "cell_type": "markdown",
   "metadata": {},
   "source": [
    "# Display the clusters and the members (senators) of each cluster"
   ]
  },
  {
   "cell_type": "code",
   "execution_count": 100,
   "metadata": {
    "scrolled": false
   },
   "outputs": [
    {
     "name": "stdout",
     "output_type": "stream",
     "text": [
      "----- Voting Cluster #1 -----\n",
      "Senator(name='Sen. Cory Gardner [R]', party='Republican', state='CO')\n",
      "Senator(name='Sen. Timothy Kaine [D]', party='Democrat', state='VA')\n",
      "Senator(name='Sen. Robert “Bob” Casey Jr. [D]', party='Democrat', state='PA')\n",
      "Senator(name='Sen. Thomas Carper [D]', party='Democrat', state='DE')\n",
      "Senator(name='Sen. Alan “Al” Franken [D]', party='Democrat', state='MN')\n",
      "Senator(name='Sen. Mark Warner [D]', party='Democrat', state='VA')\n",
      "Senator(name='Sen. Daniel Coats [R]', party='Republican', state='IN')\n",
      "Senator(name='Sen. Mark Kirk [R]', party='Republican', state='IL')\n",
      "Senator(name='Sen. Orrin Hatch [R]', party='Republican', state='UT')\n",
      "Senator(name='Sen. Richard Burr [R]', party='Republican', state='NC')\n",
      "Senator(name='Sen. John “Johnny” Isakson [R]', party='Republican', state='GA')\n",
      "Senator(name='Sen. Richard Blumenthal [D]', party='Democrat', state='CT')\n",
      "Senator(name='Sen. Angus King [I]', party='Independent', state='ME')\n",
      "Senator(name='Sen. Bob Corker [R]', party='Republican', state='TN')\n",
      "Senator(name='Sen. James Risch [R]', party='Republican', state='ID')\n",
      "Senator(name='Sen. Lamar Alexander [R]', party='Republican', state='TN')\n",
      "Senator(name='Sen. Michael Enzi [R]', party='Republican', state='WY')\n",
      "Senator(name='Sen. James Lankford [R]', party='Republican', state='OK')\n",
      "Senator(name='Sen. Ron Johnson [R]', party='Republican', state='WI')\n",
      "Senator(name='Sen. Patrick “Pat” Toomey [R]', party='Republican', state='PA')\n",
      "Senator(name='Sen. Michael Crapo [R]', party='Republican', state='ID')\n",
      "Senator(name='Sen. Claire McCaskill [D]', party='Democrat', state='MO')\n",
      "Senator(name='Sen. John McCain [R]', party='Republican', state='AZ')\n",
      "Senator(name='Sen. Chris Coons [D]', party='Democrat', state='DE')\n",
      "Senator(name='Sen. Dianne Feinstein [D]', party='Democrat', state='CA')\n",
      "Senator(name='Sen. Bill Nelson [D]', party='Democrat', state='FL')\n",
      "Senator(name='Sen. Amy Klobuchar [D]', party='Democrat', state='MN')\n",
      "Senator(name='Sen. Jeanne Shaheen [D]', party='Democrat', state='NH')\n",
      "Senator(name='Sen. Michael Bennet [D]', party='Democrat', state='CO')\n",
      "Senator(name='Sen. Kelly Ayotte [R]', party='Republican', state='NH')\n",
      "Senator(name='Sen. Gary Peters [D]', party='Democrat', state='MI')\n",
      "Senator(name='Sen. Marco Rubio [R]', party='Republican', state='FL')\n",
      "Senator(name='Sen. Tom Udall [D]', party='Democrat', state='NM')\n",
      "Senator(name='Sen. Martin Heinrich [D]', party='Democrat', state='NM')\n",
      "Senator(name='Sen. Dan Sullivan [R]', party='Republican', state='AK')\n",
      "Senator(name='Sen. John Cornyn [R]', party='Republican', state='TX')\n",
      "Counter({'Republican': 19, 'Democrat': 16, 'Independent': 1})\n",
      "----- Voting Cluster #2 -----\n",
      "Senator(name='Sen. Jeff Flake [R]', party='Republican', state='AZ')\n",
      "Senator(name='Sen. Maria Cantwell [D]', party='Democrat', state='WA')\n",
      "Senator(name='Sen. Patty Murray [D]', party='Democrat', state='WA')\n",
      "Senator(name='Sen. Richard Durbin [D]', party='Democrat', state='IL')\n",
      "Senator(name='Sen. Barbara Boxer [D]', party='Democrat', state='CA')\n",
      "Senator(name='Sen. Dean Heller [R]', party='Republican', state='NV')\n",
      "Senator(name='Sen. Edward “Ed” Markey [D]', party='Democrat', state='MA')\n",
      "Senator(name='Sen. Brian Schatz [D]', party='Democrat', state='HI')\n",
      "Senator(name='Sen. Cory Booker [D]', party='Democrat', state='NJ')\n",
      "Senator(name='Sen. Charles “Chuck” Schumer [D]', party='Democrat', state='NY')\n",
      "Senator(name='Sen. Mazie Hirono [D]', party='Democrat', state='HI')\n",
      "Senator(name='Sen. Rand Paul [R]', party='Republican', state='KY')\n",
      "Senator(name='Sen. John “Jack” Reed [D]', party='Democrat', state='RI')\n",
      "Senator(name='Sen. Elizabeth Warren [D]', party='Democrat', state='MA')\n",
      "Senator(name='Sen. Bernard “Bernie” Sanders [I]', party='Independent', state='VT')\n",
      "Senator(name='Sen. Benjamin Sasse [R]', party='Republican', state='NE')\n",
      "Senator(name='Sen. Jefferson “Jeff” Sessions [R]', party='Republican', state='AL')\n",
      "Senator(name='Sen. Kirsten Gillibrand [D]', party='Democrat', state='NY')\n",
      "Senator(name='Sen. Ted Cruz [R]', party='Republican', state='TX')\n",
      "Senator(name='Sen. Mike Lee [R]', party='Republican', state='UT')\n",
      "Senator(name='Sen. Harry Reid [D]', party='Democrat', state='NV')\n",
      "Senator(name='Sen. Jeff Merkley [D]', party='Democrat', state='OR')\n",
      "Senator(name='Sen. Patrick Leahy [D]', party='Democrat', state='VT')\n",
      "Senator(name='Sen. Sheldon Whitehouse [D]', party='Democrat', state='RI')\n",
      "Senator(name='Sen. Robert “Bob” Menéndez [D]', party='Democrat', state='NJ')\n",
      "Senator(name='Sen. Ron Wyden [D]', party='Democrat', state='OR')\n",
      "Counter({'Democrat': 18, 'Republican': 7, 'Independent': 1})\n",
      "----- Voting Cluster #3 -----\n",
      "Senator(name='Sen. David Vitter [R]', party='Republican', state='LA')\n",
      "Senator(name='Sen. Tim Scott [R]', party='Republican', state='SC')\n",
      "Senator(name='Sen. Charles “Chuck” Grassley [R]', party='Republican', state='IA')\n",
      "Senator(name='Sen. Steve Daines [R]', party='Republican', state='MT')\n",
      "Senator(name='Sen. Joni Ernst [R]', party='Republican', state='IA')\n",
      "Senator(name='Sen. Thom Tillis [R]', party='Republican', state='NC')\n",
      "Senator(name='Sen. Heidi Heitkamp [D]', party='Democrat', state='ND')\n",
      "Senator(name='Sen. Lisa Murkowski [R]', party='Republican', state='AK')\n",
      "Senator(name='Sen. Tammy Baldwin [D]', party='Democrat', state='WI')\n",
      "Senator(name='Sen. Lindsey Graham [R]', party='Republican', state='SC')\n",
      "Senator(name='Sen. Tom Cotton [R]', party='Republican', state='AR')\n",
      "Senator(name='Sen. Jon Tester [D]', party='Democrat', state='MT')\n",
      "Senator(name='Sen. John Boozman [R]', party='Republican', state='AR')\n",
      "Senator(name='Sen. Deb Fischer [R]', party='Republican', state='NE')\n",
      "Senator(name='Sen. Susan Collins [R]', party='Republican', state='ME')\n",
      "Senator(name='Sen. Jerry Moran [R]', party='Republican', state='KS')\n",
      "Senator(name='Sen. Roger Wicker [R]', party='Republican', state='MS')\n",
      "Senator(name='Sen. Debbie Stabenow [D]', party='Democrat', state='MI')\n",
      "Senator(name='Sen. Bill Cassidy [R]', party='Republican', state='LA')\n",
      "Senator(name='Sen. James “Jim” Inhofe [R]', party='Republican', state='OK')\n",
      "Senator(name='Sen. Mike Rounds [R]', party='Republican', state='SD')\n",
      "Senator(name='Sen. Joe Manchin III [D]', party='Democrat', state='WV')\n",
      "Senator(name='Sen. Sherrod Brown [D]', party='Democrat', state='OH')\n",
      "Senator(name='Sen. Barbara Mikulski [D]', party='Democrat', state='MD')\n",
      "Senator(name='Sen. Benjamin Cardin [D]', party='Democrat', state='MD')\n",
      "Senator(name='Sen. Christopher Murphy [D]', party='Democrat', state='CT')\n",
      "Senator(name='Sen. David Perdue [R]', party='Republican', state='GA')\n",
      "Senator(name='Sen. Mitch McConnell [R]', party='Republican', state='KY')\n",
      "Senator(name='Sen. Roy Blunt [R]', party='Republican', state='MO')\n",
      "Senator(name='Sen. John Thune [R]', party='Republican', state='SD')\n",
      "Senator(name='Sen. Joe Donnelly [D]', party='Democrat', state='IN')\n",
      "Senator(name='Sen. John Barrasso [R]', party='Republican', state='WY')\n",
      "Senator(name='Sen. John Hoeven [R]', party='Republican', state='ND')\n",
      "Senator(name='Sen. Richard Shelby [R]', party='Republican', state='AL')\n",
      "Senator(name='Sen. Thad Cochran [R]', party='Republican', state='MS')\n",
      "Senator(name='Sen. Pat Roberts [R]', party='Republican', state='KS')\n",
      "Senator(name='Sen. Shelley Capito [R]', party='Republican', state='WV')\n",
      "Senator(name='Sen. Robert “Rob” Portman [R]', party='Republican', state='OH')\n",
      "Counter({'Republican': 28, 'Democrat': 10})\n"
     ]
    }
   ],
   "source": [
    "for i, votes_in_cluster in enumerate(clustered_votes.values(), start=1):\n",
    "    print(f'----- Voting Cluster #{i} -----')\n",
    "    party_totals = Counter()\n",
    "    for votes in set(votes_in_cluster):\n",
    "        for senator in votes_to_senators[votes]:\n",
    "            print(senator)\n",
    "            party_totals[senator.party] += 1\n",
    "    print(party_totals)"
   ]
  },
  {
   "cell_type": "code",
   "execution_count": null,
   "metadata": {},
   "outputs": [],
   "source": []
  }
 ],
 "metadata": {
  "jupytext": {
   "formats": "ipynb,py:light"
  },
  "kernelspec": {
   "display_name": "Python 3",
   "language": "python",
   "name": "python3"
  },
  "language_info": {
   "codemirror_mode": {
    "name": "ipython",
    "version": 3
   },
   "file_extension": ".py",
   "mimetype": "text/x-python",
   "name": "python",
   "nbconvert_exporter": "python",
   "pygments_lexer": "ipython3",
   "version": "3.6.7"
  }
 },
 "nbformat": 4,
 "nbformat_minor": 2
}
