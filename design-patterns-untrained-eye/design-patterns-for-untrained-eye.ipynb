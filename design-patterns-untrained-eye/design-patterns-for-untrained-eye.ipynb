{
 "cells": [
  {
   "cell_type": "markdown",
   "metadata": {},
   "source": [
    "http://34.212.143.74/s201911/pycon2019/docs/design_patterns.html\n",
    "\n",
    "https://www.youtube.com/watch?v=o1FZ_Bd4DSM"
   ]
  },
  {
   "cell_type": "markdown",
   "metadata": {},
   "source": [
    "# Pattern Categories\n",
    "## Idioms\n",
    "### Chained Comparison operators"
   ]
  },
  {
   "cell_type": "code",
   "execution_count": 2,
   "metadata": {},
   "outputs": [
    {
     "name": "stdout",
     "output_type": "stream",
     "text": [
      "x is greater than 0 but less than 10\n"
     ]
    }
   ],
   "source": [
    "x = 5\n",
    "if 0 < x < 10:\n",
    "    print('x is greater than 0 but less than 10')"
   ]
  },
  {
   "cell_type": "markdown",
   "metadata": {},
   "source": [
    "### Top-level script environment\n",
    "Execute only if run as a script and not as a module"
   ]
  },
  {
   "cell_type": "code",
   "execution_count": 5,
   "metadata": {},
   "outputs": [
    {
     "name": "stdout",
     "output_type": "stream",
     "text": [
      "Hello from script!\n"
     ]
    }
   ],
   "source": [
    "if __name__ == '__main__':\n",
    "    print('Hello from script!')"
   ]
  },
  {
   "cell_type": "markdown",
   "metadata": {},
   "source": [
    "### Conditional expressions"
   ]
  },
  {
   "cell_type": "code",
   "execution_count": 6,
   "metadata": {},
   "outputs": [
    {
     "data": {
      "text/plain": [
       "20"
      ]
     },
     "execution_count": 6,
     "metadata": {},
     "output_type": "execute_result"
    }
   ],
   "source": [
    "10 if x < 5 else 20"
   ]
  },
  {
   "cell_type": "markdown",
   "metadata": {},
   "source": [
    "### Indexing during iteration"
   ]
  },
  {
   "cell_type": "code",
   "execution_count": 9,
   "metadata": {},
   "outputs": [
    {
     "name": "stdout",
     "output_type": "stream",
     "text": [
      "0 0\n",
      "1 1\n",
      "2 4\n",
      "3 9\n",
      "4 16\n",
      "5 25\n",
      "6 36\n",
      "7 49\n",
      "8 64\n",
      "9 81\n"
     ]
    }
   ],
   "source": [
    "collection = [i ** 2 for i in range(10)]\n",
    "for index, value in enumerate(collection):\n",
    "    print(index, value)"
   ]
  },
  {
   "cell_type": "markdown",
   "metadata": {},
   "source": [
    "## Architectural Patterns\n",
    "are templates for concrete software architectures\n",
    "- Pipes and Filters\n",
    "- MVC\n",
    "- Microservices\n",
    "\n",
    "## Design Patterns\n",
    "are medium-scale patterns\n",
    "some object-oriented design patterns:\n",
    "- Singleton\n",
    "- Template Method\n",
    "- Adapter\n",
    "- Observer\n",
    "\n",
    "Gang of Four (GoF) 23 patterns were classified as:\n",
    "- Creational Patterns\n",
    "- Structural Patterns\n",
    "- Behavioral Patterns\n",
    "\n",
    "Principles:\n",
    "- Separate out the things that change from those that stay the same\n",
    "- Program to an interface, not an implementation\n",
    "- Prefer composition over inheritance\n",
    "- Delegation"
   ]
  },
  {
   "cell_type": "markdown",
   "metadata": {},
   "source": [
    "# Singleton Pattern\n",
    "- Intent: `creational design pattern` that lets you ensure that a class has only one instance, providing a global access to this instance\n"
   ]
  },
  {
   "cell_type": "code",
   "execution_count": 11,
   "metadata": {},
   "outputs": [],
   "source": [
    "from typing import Optional"
   ]
  },
  {
   "cell_type": "markdown",
   "metadata": {},
   "source": [
    "Naive implementation"
   ]
  },
  {
   "cell_type": "code",
   "execution_count": 17,
   "metadata": {},
   "outputs": [
    {
     "name": "stdout",
     "output_type": "stream",
     "text": [
      "True\n"
     ]
    }
   ],
   "source": [
    "class SingletonMeta(type):\n",
    "    _instance = None\n",
    "    \n",
    "    def __call__(self):\n",
    "        if self._instance is None:\n",
    "            self._instance = super().__call__()\n",
    "        return self._instance\n",
    "\n",
    "class Singleton(metaclass=SingletonMeta):\n",
    "    pass\n",
    "\n",
    "s1 = Singleton()\n",
    "s2 = Singleton()\n",
    "\n",
    "print(s1 is s2)"
   ]
  },
  {
   "cell_type": "markdown",
   "metadata": {},
   "source": [
    "Thread-safe implementation"
   ]
  },
  {
   "cell_type": "code",
   "execution_count": 22,
   "metadata": {},
   "outputs": [
    {
     "name": "stdout",
     "output_type": "stream",
     "text": [
      "True\n"
     ]
    }
   ],
   "source": [
    "from threading import Lock\n",
    "\n",
    "class SingletonMeta(type):\n",
    "    _instance = None\n",
    "    _lock = Lock()\n",
    "    \n",
    "    def __call__(cls, *args, **kwargs):\n",
    "        with cls._lock:\n",
    "            if cls._instance is None:\n",
    "                cls._instance = super().__call__(*args, **kwargs)\n",
    "        return cls._instance\n",
    "\n",
    "class Singleton(metaclass=SingletonMeta):\n",
    "    pass\n",
    "\n",
    "s1 = Singleton()\n",
    "s2 = Singleton()\n",
    "\n",
    "print(s1 is s2)"
   ]
  },
  {
   "cell_type": "code",
   "execution_count": 23,
   "metadata": {},
   "outputs": [
    {
     "data": {
      "text/plain": [
       "__main__.SingletonMeta"
      ]
     },
     "execution_count": 23,
     "metadata": {},
     "output_type": "execute_result"
    }
   ],
   "source": [
    "type(Singleton)"
   ]
  },
  {
   "cell_type": "code",
   "execution_count": 25,
   "metadata": {},
   "outputs": [
    {
     "data": {
      "text/plain": [
       "__main__.SingletonMeta"
      ]
     },
     "execution_count": 25,
     "metadata": {},
     "output_type": "execute_result"
    }
   ],
   "source": [
    "class a(metaclass=SingletonMeta):\n",
    "    pass\n",
    "\n",
    "type(a)"
   ]
  },
  {
   "cell_type": "code",
   "execution_count": 29,
   "metadata": {},
   "outputs": [],
   "source": [
    "a1 = a()\n",
    "a2 = a()"
   ]
  },
  {
   "cell_type": "code",
   "execution_count": 30,
   "metadata": {},
   "outputs": [
    {
     "data": {
      "text/plain": [
       "True"
      ]
     },
     "execution_count": 30,
     "metadata": {},
     "output_type": "execute_result"
    }
   ],
   "source": [
    "a1 is a2"
   ]
  },
  {
   "cell_type": "code",
   "execution_count": 31,
   "metadata": {},
   "outputs": [
    {
     "data": {
      "text/plain": [
       "False"
      ]
     },
     "execution_count": 31,
     "metadata": {},
     "output_type": "execute_result"
    }
   ],
   "source": [
    "a1 is s1"
   ]
  },
  {
   "cell_type": "markdown",
   "metadata": {},
   "source": [
    "# Template Method Pattern\n",
    "\n",
    "Intent: `behavioral design pattern` that defines the skeleton of an algorithm in the base class but lets derived classes override specific steps\n",
    "Motivation: break down an algo into a series of steps, turn these steps into methods -> derived class can override"
   ]
  },
  {
   "cell_type": "code",
   "execution_count": 32,
   "metadata": {},
   "outputs": [],
   "source": [
    "from abc import ABC, abstractmethod"
   ]
  },
  {
   "cell_type": "code",
   "execution_count": 33,
   "metadata": {},
   "outputs": [],
   "source": [
    "class AverageCalculator(ABC):\n",
    "    \n",
    "    def average(self):\n",
    "        try:\n",
    "            num_items = 0\n",
    "            total_sum = 0\n",
    "            while self.has_next():\n",
    "                total_sum += self.next_item()\n",
    "                num_items += 1\n",
    "            if num_items == 0:\n",
    "                raise RuntimeError(\"Zero items\")\n",
    "            return total_sum / num_items\n",
    "        finally:\n",
    "            self.dispose()\n",
    "    \n",
    "    @abstractmethod\n",
    "    def has_next(self):\n",
    "        pass\n",
    "\n",
    "    @abstractmethod\n",
    "    def next_item(self):\n",
    "        pass\n",
    "    \n",
    "    def dispose(self):\n",
    "        pass"
   ]
  },
  {
   "cell_type": "markdown",
   "metadata": {},
   "source": [
    "# Adapter Pattern\n",
    "\n",
    "Intent: `structural design pattern` converts the interface of a class into another interface clients expect\n"
   ]
  },
  {
   "cell_type": "code",
   "execution_count": 34,
   "metadata": {},
   "outputs": [],
   "source": [
    "class Duck:\n",
    "    \n",
    "    def quack(self):\n",
    "        print('Quack')\n",
    "        \n",
    "    def fly(self):\n",
    "        print(\"I'm flying\")\n",
    "\n",
    "class Turkey:\n",
    "    \n",
    "    def gobble(self):\n",
    "        print('Gobble gobble')\n",
    "        \n",
    "    def fly(self):\n",
    "        print(\"I'm flying a short distance\")"
   ]
  },
  {
   "cell_type": "markdown",
   "metadata": {},
   "source": [
    "want your turkeys to behave like ducks"
   ]
  },
  {
   "cell_type": "code",
   "execution_count": 36,
   "metadata": {},
   "outputs": [
    {
     "name": "stdout",
     "output_type": "stream",
     "text": [
      "Gobble gobble\n",
      "I'm flying a short distance\n",
      "I'm flying a short distance\n",
      "I'm flying a short distance\n",
      "I'm flying a short distance\n",
      "I'm flying a short distance\n"
     ]
    }
   ],
   "source": [
    "class TurkeyAdapter:\n",
    "    \n",
    "    def __init__(self, turkey):\n",
    "        self.turkey = turkey\n",
    "    \n",
    "    def quack(self):\n",
    "        self.turkey.gobble()\n",
    "    \n",
    "    def fly(self):\n",
    "        for _ in range(5):\n",
    "            self.turkey.fly()\n",
    "        \n",
    "\n",
    "def duck_interation(duck):\n",
    "    duck.quack()\n",
    "    duck.fly()\n",
    "\n",
    "duck = Duck()\n",
    "turkey = Turkey()\n",
    "\n",
    "turkey_adapter = TurkeyAdapter(turkey)\n",
    "duck_interation(turkey_adapter)"
   ]
  },
  {
   "cell_type": "markdown",
   "metadata": {},
   "source": [
    "# Observer Pattern\n",
    "\n",
    "Intent: `behavioral design pattern` that defines a one-to-many dependency btw objects, when 1 object change state, all its dependents are notified automatically"
   ]
  },
  {
   "cell_type": "code",
   "execution_count": 38,
   "metadata": {},
   "outputs": [],
   "source": [
    "from abc import ABC, abstractmethod\n",
    "\n",
    "class Observer(ABC):\n",
    "    \n",
    "    @abstractmethod\n",
    "    def update(self, observable, *args):\n",
    "        pass\n",
    "    \n",
    "class Observable:\n",
    "    \n",
    "    def __init__(self):\n",
    "        self.__observers = []\n",
    "        \n",
    "    def add_observer(self, obs):\n",
    "        self.__observers.append(obs)\n",
    "        \n",
    "    def delete_observer(self, obs):\n",
    "        self.__observers.remove(obs)\n",
    "    \n",
    "    def notify_observers(self, *args):\n",
    "        for obs in self.__observers:\n",
    "            obs.update(self, *args)"
   ]
  },
  {
   "cell_type": "code",
   "execution_count": 40,
   "metadata": {},
   "outputs": [],
   "source": [
    "class Employee(Observable):\n",
    "    \n",
    "    @property\n",
    "    def salary(self):\n",
    "        return self._salary\n",
    "    \n",
    "    @salary.setter\n",
    "    def salary(self, new_salary):\n",
    "        self._salary = new_salary\n",
    "        self.notify_observers(new_salary)"
   ]
  },
  {
   "cell_type": "code",
   "execution_count": null,
   "metadata": {},
   "outputs": [],
   "source": []
  },
  {
   "cell_type": "code",
   "execution_count": null,
   "metadata": {},
   "outputs": [],
   "source": []
  },
  {
   "cell_type": "code",
   "execution_count": null,
   "metadata": {},
   "outputs": [],
   "source": []
  },
  {
   "cell_type": "code",
   "execution_count": null,
   "metadata": {},
   "outputs": [],
   "source": []
  },
  {
   "cell_type": "code",
   "execution_count": null,
   "metadata": {},
   "outputs": [],
   "source": []
  }
 ],
 "metadata": {
  "kernelspec": {
   "display_name": "Python 3",
   "language": "python",
   "name": "python3"
  },
  "language_info": {
   "codemirror_mode": {
    "name": "ipython",
    "version": 3
   },
   "file_extension": ".py",
   "mimetype": "text/x-python",
   "name": "python",
   "nbconvert_exporter": "python",
   "pygments_lexer": "ipython3",
   "version": "3.6.7"
  }
 },
 "nbformat": 4,
 "nbformat_minor": 2
}
